{
 "cells": [
  {
   "cell_type": "markdown",
   "metadata": {},
   "source": [
    "# QCircle Demo\n",
    "\n",
    "QCircle is a library for visualizing qubit states using circle notation. This notation was introduced by Eric R. Johnson, Nic Harrigan, and Mercedes Gimeno-Segovia in their book, *Programming Quantum Computers*.\n",
    "\n",
    "A qubit has two *basic states*, which are labeled |0⟩ and |1⟩. We use two circles to represent the state of a qubit. If the state is |0⟩ then the first circle is *on* and the second circle is *off*. "
   ]
  },
  {
   "cell_type": "code",
   "execution_count": 1,
   "metadata": {
    "scrolled": true
   },
   "outputs": [
    {
     "data": {
      "text/html": [
       "\n",
       "        <iframe\n",
       "            width=\"800\"\n",
       "            height=\"150\"\n",
       "            src=\"https://radcliffe.cc/qcircle/on-off.html\"\n",
       "            frameborder=\"0\"\n",
       "            allowfullscreen\n",
       "        ></iframe>\n",
       "        "
      ],
      "text/plain": [
       "<IPython.lib.display.IFrame at 0x7f6c85772ac8>"
      ]
     },
     "execution_count": 1,
     "metadata": {},
     "output_type": "execute_result"
    }
   ],
   "source": [
    "from IPython.display import IFrame\n",
    "IFrame('https://radcliffe.cc/qcircle/on-off.html', height=150, width=800)"
   ]
  },
  {
   "cell_type": "markdown",
   "metadata": {},
   "source": [
    "Similarly, if the state is |1⟩ then the first circle is *off* and the second circle is *on*."
   ]
  },
  {
   "cell_type": "code",
   "execution_count": 2,
   "metadata": {
    "scrolled": true
   },
   "outputs": [
    {
     "data": {
      "text/html": [
       "\n",
       "        <iframe\n",
       "            width=\"800\"\n",
       "            height=\"150\"\n",
       "            src=\"https://radcliffe.cc/qcircle/off-on.html\"\n",
       "            frameborder=\"0\"\n",
       "            allowfullscreen\n",
       "        ></iframe>\n",
       "        "
      ],
      "text/plain": [
       "<IPython.lib.display.IFrame at 0x7f6c85772710>"
      ]
     },
     "execution_count": 2,
     "metadata": {},
     "output_type": "execute_result"
    }
   ],
   "source": [
    "IFrame('https://radcliffe.cc/qcircle/off-on.html', height=150, width=800)"
   ]
  },
  {
   "cell_type": "markdown",
   "metadata": {},
   "source": [
    "But a qubit can have infinitely many other states. In general, the state of a qubit is a *superposition* (combination) of the basic states |0⟩ and |1⟩. When the qubit is measured, the state collapses to either |0⟩ or |1⟩.\n",
    "\n",
    "Each basic state has a *magnitude*, which is a number between 0 and 1. The magnitude is represented by the radius of a yellow circle. The square of the magnitude gives the probability that |0⟩ or |1⟩ will be measured. The squared magnitudes always add up to 1.\n",
    "\n",
    "Drag the slider to adjust the magnitudes and probabilities of the basic states |0⟩ and |1⟩. You can also click on the slider and use the arrow keys to change the values. "
   ]
  },
  {
   "cell_type": "code",
   "execution_count": 3,
   "metadata": {},
   "outputs": [
    {
     "data": {
      "text/html": [
       "\n",
       "        <iframe\n",
       "            width=\"800\"\n",
       "            height=\"220\"\n",
       "            src=\"https://radcliffe.cc/qcircle/one-qubit.html\"\n",
       "            frameborder=\"0\"\n",
       "            allowfullscreen\n",
       "        ></iframe>\n",
       "        "
      ],
      "text/plain": [
       "<IPython.lib.display.IFrame at 0x7f6c85772f28>"
      ]
     },
     "execution_count": 3,
     "metadata": {},
     "output_type": "execute_result"
    }
   ],
   "source": [
    "from IPython.display import IFrame\n",
    "IFrame('https://radcliffe.cc/qcircle/one-qubit.html', height=220, width=800)"
   ]
  },
  {
   "cell_type": "markdown",
   "metadata": {},
   "source": [
    "In addition to the magnitude, each circle has a *phase*. The phase is an angle between 0° and 360° (or $2\\pi$ radians) and it can be visualized as a rotation of the circle.\n",
    "\n",
    "As it happens, the state of a qubit is not changed if we rotate both circles by the same amount. All that matters is the difference in the rotations. Consequently, we will only rotate the second circle."
   ]
  },
  {
   "cell_type": "code",
   "execution_count": 4,
   "metadata": {
    "scrolled": true
   },
   "outputs": [
    {
     "data": {
      "text/html": [
       "\n",
       "        <iframe\n",
       "            width=\"800\"\n",
       "            height=\"300\"\n",
       "            src=\"https://radcliffe.cc/qcircle/one-qubit-phase.html\"\n",
       "            frameborder=\"0\"\n",
       "            allowfullscreen\n",
       "        ></iframe>\n",
       "        "
      ],
      "text/plain": [
       "<IPython.lib.display.IFrame at 0x7f6c857726d8>"
      ]
     },
     "execution_count": 4,
     "metadata": {},
     "output_type": "execute_result"
    }
   ],
   "source": [
    "IFrame('https://radcliffe.cc/qcircle/one-qubit-phase.html', height=300, width=800)"
   ]
  },
  {
   "cell_type": "code",
   "execution_count": null,
   "metadata": {},
   "outputs": [],
   "source": []
  },
  {
   "cell_type": "code",
   "execution_count": null,
   "metadata": {},
   "outputs": [],
   "source": []
  }
 ],
 "metadata": {
  "kernelspec": {
   "display_name": "Python 3",
   "language": "python",
   "name": "python3"
  },
  "language_info": {
   "codemirror_mode": {
    "name": "ipython",
    "version": 3
   },
   "file_extension": ".py",
   "mimetype": "text/x-python",
   "name": "python",
   "nbconvert_exporter": "python",
   "pygments_lexer": "ipython3",
   "version": "3.6.9"
  }
 },
 "nbformat": 4,
 "nbformat_minor": 4
}
